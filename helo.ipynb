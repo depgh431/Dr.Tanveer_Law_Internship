{
 "cells": [
  {
   "cell_type": "code",
   "execution_count": 12,
   "metadata": {},
   "outputs": [],
   "source": [
    "import json\n",
    "from unicodedata import numeric\n",
    "import numpy as np\n",
    "import pandas as pd\n",
    "import re\n",
    "# A function is created to clean the data within file\n",
    "def clean(x):\n",
    "    x=str(x)\n",
    "    x=x.replace(\"&nbsp;\", \" \")\n",
    "    x=x.replace(\". Vs. \", \" v \")\n",
    "    x=x.replace(\"\\t\", \"   \")\n",
    "    x=x.replace(\":-\", \"\")\n",
    "    x=x.replace(\";\", \" \")\n",
    "    x=x.replace(\"&#39;\", \"'\")\n",
    "    x=x.replace(\"&amp;\", \"&\")\n",
    "    return x"
   ]
  },
  {
   "cell_type": "code",
   "execution_count": 11,
   "metadata": {},
   "outputs": [
    {
     "data": {
      "text/html": [
       "<div>\n",
       "<style scoped>\n",
       "    .dataframe tbody tr th:only-of-type {\n",
       "        vertical-align: middle;\n",
       "    }\n",
       "\n",
       "    .dataframe tbody tr th {\n",
       "        vertical-align: top;\n",
       "    }\n",
       "\n",
       "    .dataframe thead th {\n",
       "        text-align: right;\n",
       "    }\n",
       "</style>\n",
       "<table border=\"1\" class=\"dataframe\">\n",
       "  <thead>\n",
       "    <tr style=\"text-align: right;\">\n",
       "      <th></th>\n",
       "      <th>CaseNo</th>\n",
       "      <th>Judgement</th>\n",
       "      <th>ArgumentsOfPetitioner</th>\n",
       "      <th>ArgumentsOfResponder</th>\n",
       "      <th>Facts</th>\n",
       "      <th>Principle</th>\n",
       "      <th>Statute</th>\n",
       "      <th>CaseCited</th>\n",
       "      <th>Reasoning</th>\n",
       "      <th>Decision</th>\n",
       "      <th>NoOfJudges</th>\n",
       "      <th>Decision_Status</th>\n",
       "    </tr>\n",
       "  </thead>\n",
       "  <tbody>\n",
       "    <tr>\n",
       "      <th>0</th>\n",
       "      <td>Civil Appeal No. 6006 Of 2001 (With C.A. No. 3...</td>\n",
       "      <td>Dharmadhikari J.      These two cross appeals ...</td>\n",
       "      <td>32. It needs to be mentioned at this stage tha...</td>\n",
       "      <td>44. The alternative argument advanced on behal...</td>\n",
       "      <td>1.These two cross appeals have been preferred ...</td>\n",
       "      <td>1.These two cross appeals have been preferred ...</td>\n",
       "      <td>Specific Relief Act, 1963 Section 20</td>\n",
       "      <td>Lala Durga Prasad vs. Lala Deep Chand. (1954 S...</td>\n",
       "      <td>After hearing the argument at length advanced ...</td>\n",
       "      <td>70. On duly appreciating of the evidence on r...</td>\n",
       "      <td>2</td>\n",
       "      <td>2</td>\n",
       "    </tr>\n",
       "  </tbody>\n",
       "</table>\n",
       "</div>"
      ],
      "text/plain": [
       "                                              CaseNo  \\\n",
       "0  Civil Appeal No. 6006 Of 2001 (With C.A. No. 3...   \n",
       "\n",
       "                                           Judgement  \\\n",
       "0  Dharmadhikari J.      These two cross appeals ...   \n",
       "\n",
       "                               ArgumentsOfPetitioner  \\\n",
       "0  32. It needs to be mentioned at this stage tha...   \n",
       "\n",
       "                                ArgumentsOfResponder  \\\n",
       "0  44. The alternative argument advanced on behal...   \n",
       "\n",
       "                                               Facts  \\\n",
       "0  1.These two cross appeals have been preferred ...   \n",
       "\n",
       "                                           Principle  \\\n",
       "0  1.These two cross appeals have been preferred ...   \n",
       "\n",
       "                                 Statute  \\\n",
       "0  Specific Relief Act, 1963 Section 20    \n",
       "\n",
       "                                           CaseCited  \\\n",
       "0  Lala Durga Prasad vs. Lala Deep Chand. (1954 S...   \n",
       "\n",
       "                                           Reasoning  \\\n",
       "0  After hearing the argument at length advanced ...   \n",
       "\n",
       "                                            Decision NoOfJudges  \\\n",
       "0   70. On duly appreciating of the evidence on r...          2   \n",
       "\n",
       "  Decision_Status  \n",
       "0               2  "
      ]
     },
     "execution_count": 11,
     "metadata": {},
     "output_type": "execute_result"
    }
   ],
   "source": [
    "#data is cleaned\n",
    "data=pd.read_json(\"processed.json\")\n",
    "data=data.applymap(clean)\n",
    "\n",
    "df=pd.DataFrame(data)\n",
    "df.head(1)"
   ]
  },
  {
   "cell_type": "markdown",
   "metadata": {},
   "source": [
    "My approach says that the plantiff starts with a disadvantage considering how in any given case\n",
    "the defendant is \"Innocent until proven guilty\", this disadvantage will be shown on the basis of \n",
    "the cases cited in the current case where the decision would lead to the disadvantage score being\n",
    "higher or lower based on who won the cases cited and how similar they were, getting how similar they \n",
    "were is an issue but can be probably solved with an NLP, multiplying the similarity grading from 0-1 \n",
    "based on how similar they were to the case with 100 (100 being the standard value for disadvantage in case of no similarity), and adding that score or subtracting it from\n",
    "0 (based on who won),  giving us the final disadvantage score, so if two cases are exactly similar we can already tell that the previous decision is\n",
    "going to be referenced to."
   ]
  },
  {
   "cell_type": "code",
   "execution_count": 3,
   "metadata": {},
   "outputs": [],
   "source": [
    "similarity=0.4 #similarity to previous cited case;\n",
    "side=\"Plantiff\" #side that won cited case\n",
    "disadvantage_quotient=100*similarity\n",
    "if (side==\"Plantiff\"):\n",
    "    Disadvantage= 100-disadvantage_quotient\n",
    "else:\n",
    "    Disadvantage=100+disadvantage_quotient\n",
    "if Disadvantage<=0:\n",
    "    print(\"Plantiff wins the case\") #in case the plantiff reaches a disadvantage of 0, means the defendant has lost said case"
   ]
  },
  {
   "cell_type": "markdown",
   "metadata": {},
   "source": [
    "we then consider each argument , each argument is given an impact which it has on the case,\n",
    "This is under the assumption that all arguments that the sides have given have some impact on said case\n",
    "We then have to consider how much impact an argument would have on the case , this being the difficult part\n",
    "Firstly we need to seperate each argument from one another."
   ]
  },
  {
   "cell_type": "code",
   "execution_count": 4,
   "metadata": {},
   "outputs": [
    {
     "name": "stdout",
     "output_type": "stream",
     "text": [
      "<re.Match object; span=(0, 4), match='22. '>\n"
     ]
    }
   ],
   "source": [
    "pattern=r\"\\d{2}[.]\\s\"\n",
    "print(re.search(pattern,\"22. op weqaw\"))"
   ]
  },
  {
   "cell_type": "code",
   "execution_count": 10,
   "metadata": {},
   "outputs": [
    {
     "data": {
      "text/plain": [
       "'It needs to be mentioned at this stage that learned counsel appearing for the subsequent vendee has not disputed in this appeal that the sale in favour of the subsequent vendee was with notice of the prior sale agreement Ex. P1 with the vendee.'"
      ]
     },
     "execution_count": 10,
     "metadata": {},
     "output_type": "execute_result"
    }
   ],
   "source": [
    "Arguments_of_Petitioner=re.split(pattern,df.iloc[0,2])\n",
    "Arguments_of_Petitioner[1] #Argument number 1 from the list of the arguments of the first case"
   ]
  },
  {
   "cell_type": "code",
   "execution_count": 16,
   "metadata": {},
   "outputs": [
    {
     "data": {
      "text/plain": [
       "'The alternative argument advanced on behalf of the plaintiff-vendor is that although the petitioner is, in law, entitled to conveyance of full title in the property by the vendor, the reversioners and the subsequent vendee, he has restricted his claim to the lesser relief of seeking conveyance only of life interest in the property of the vendor. Such relief can be granted under section 12(3) of the Specific Relief Act as the vendee is willing to pay full agreed consideration for lesser relief of conveyance of life interest in the property. Reliance is placed on Lala Durga Prasad vs. Lala Deep Chand. (1954 SCR 360 at page. 367)  Jhumma Masjid Vs. Kodimaniandra Devaiah (1962 Supp (2) SCR 554 at pg. 570)  Soni Lalji Jetha vs. Sonkalidas Devchand (1967(1) SCR 873 at pg. 879)  and Narandas Karsondas vs. S.A. Kamtam (1977(3) SCC 247).'"
      ]
     },
     "execution_count": 16,
     "metadata": {},
     "output_type": "execute_result"
    }
   ],
   "source": [
    "Arguments_of_Defendant=re.split(pattern,df.iloc[0,3])\n",
    "Arguments_of_Defendant[1]#argument number 1 from the arguments of defendant list"
   ]
  },
  {
   "cell_type": "markdown",
   "metadata": {},
   "source": [
    "The arguments can be identified with the following regix pattern from what I can see\n",
    "The arguments are then compared to the facts and check if they match said facts, they gain a similarity index of their own,\n",
    "They are then compared with a book of law to check for the legality of the given argument, where an NLP checks for similar meanings \n",
    " between the argument and the laws cited, and it too gets a similarity index as well as an impact index based on the fine/sentence the law it states has\n",
    " From my point of view the impact an argument has on the case can mostly only be realised by something of this sort, all of it is also multiplied with the number of arguments in total."
   ]
  },
  {
   "cell_type": "code",
   "execution_count": 7,
   "metadata": {},
   "outputs": [
    {
     "name": "stdout",
     "output_type": "stream",
     "text": [
      "Impact of Argument 1 = 16.32\n",
      "Disadvantage before Defendant argument =  43.68\n"
     ]
    }
   ],
   "source": [
    "Argument_1_similarity=0.8  #The arguments similarity to the facts\n",
    "Similarity_Citation=0.6\n",
    "Punishment_For_Citation= 34  #There is a different scale required for this depending on the severity of the punishment with 100 being the death penalty or a very huge fine per say depending on case to case\n",
    "Argument_1_impact= Argument_1_similarity*Similarity_Citation*Punishment_For_Citation\n",
    "print(\"Impact of Argument 1 =\",Argument_1_impact)\n",
    "Disadvantage=Disadvantage-Argument_1_impact\n",
    "print(\"Disadvantage before Defendant argument = \",Disadvantage)"
   ]
  },
  {
   "cell_type": "markdown",
   "metadata": {},
   "source": [
    "The defendants arguments are going to try to mostly just contradict the Plantiff's arguments so they are compared to the facts and then\n",
    "They are compared to the defendant's arguments using the NLP, if there is a contradiction, the Argument gets its own values of similarity towards facts\n",
    "picks up the similarity for citation from the previous section and the punishment for citation too and the impact is added to disadvantage."
   ]
  },
  {
   "cell_type": "code",
   "execution_count": 8,
   "metadata": {},
   "outputs": [
    {
     "name": "stdout",
     "output_type": "stream",
     "text": [
      "Impact of Argument 1 Contradiction = 14.279999999999998\n",
      "Disadvantage after Defendant argument =  57.959999999999994\n"
     ]
    }
   ],
   "source": [
    "Argument_contradiction_Similarity=0.7 #The argument's similarity to the facts\n",
    "Argument_Contradiction_impact =Similarity_Citation*Punishment_For_Citation*Argument_contradiction_Similarity\n",
    "Disadvantage=Disadvantage+Argument_Contradiction_impact\n",
    "print(\"Impact of Argument 1 Contradiction =\",Argument_Contradiction_impact)\n",
    "print(\"Disadvantage after Defendant argument = \",Disadvantage)"
   ]
  },
  {
   "cell_type": "markdown",
   "metadata": {},
   "source": [
    "Considering a case of law is mostly just a competition on who can use facts better \n",
    "even if the arguments are all contradicted , there is a chance still of the Defendant losing if the facts aren't correct."
   ]
  },
  {
   "cell_type": "markdown",
   "metadata": {},
   "source": [
    "All of these cases are going with the assumption that both the sides are given impactful and not bluffed or bloated arguments\n",
    "As well as the case not being very moviesque in nature like we have seen some rare cases tend to be."
   ]
  },
  {
   "cell_type": "markdown",
   "metadata": {},
   "source": [
    "if the Plantiff ends with the disadvantage above 0, the defendant presumably wins the case."
   ]
  }
 ],
 "metadata": {
  "kernelspec": {
   "display_name": "Python 3.10.5 64-bit",
   "language": "python",
   "name": "python3"
  },
  "language_info": {
   "codemirror_mode": {
    "name": "ipython",
    "version": 3
   },
   "file_extension": ".py",
   "mimetype": "text/x-python",
   "name": "python",
   "nbconvert_exporter": "python",
   "pygments_lexer": "ipython3",
   "version": "3.10.5"
  },
  "orig_nbformat": 4,
  "vscode": {
   "interpreter": {
    "hash": "3440fa40ac2c39878b83ee7a6e81824601a62799733fc81e385c4ef9c8700d77"
   }
  }
 },
 "nbformat": 4,
 "nbformat_minor": 2
}
